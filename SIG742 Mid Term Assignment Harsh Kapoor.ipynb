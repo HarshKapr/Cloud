{
  "nbformat": 4,
  "nbformat_minor": 0,
  "metadata": {
    "colab": {
      "provenance": [],
      "authorship_tag": "ABX9TyPjsiS7HG7tCiyFXw9ApC5V",
      "include_colab_link": true
    },
    "kernelspec": {
      "name": "python3",
      "display_name": "Python 3"
    },
    "language_info": {
      "name": "python"
    }
  },
  "cells": [
    {
      "cell_type": "markdown",
      "metadata": {
        "id": "view-in-github",
        "colab_type": "text"
      },
      "source": [
        "<a href=\"https://colab.research.google.com/github/HarshKapr/Cloud/blob/main/SIG742%20Mid%20Term%20Assignment%20Harsh%20Kapoor.ipynb\" target=\"_parent\"><img src=\"https://colab.research.google.com/assets/colab-badge.svg\" alt=\"Open In Colab\"/></a>"
      ]
    },
    {
      "cell_type": "markdown",
      "source": [
        "StudentId -  224893883\n",
        "\n",
        "Student Name - Harsh Kapoor bold text\n",
        "\n",
        "SIG742 Mid Term Assignment **bold text**\n",
        "\n",
        "Part - I"
      ],
      "metadata": {
        "id": "SSKRwgdX6a8p"
      }
    },
    {
      "cell_type": "markdown",
      "source": [
        "Answer 1.1"
      ],
      "metadata": {
        "id": "4of8FcMU6yzu"
      }
    },
    {
      "cell_type": "code",
      "execution_count": null,
      "metadata": {
        "id": "kvh8CebR6AcC",
        "colab": {
          "base_uri": "https://localhost:8080/"
        },
        "outputId": "b730971b-c15b-4eac-82dd-816084e92fdf"
      },
      "outputs": [
        {
          "output_type": "stream",
          "name": "stdout",
          "text": [
            "True\n",
            "False\n",
            "False\n",
            "True\n"
          ]
        }
      ],
      "source": [
        "def is_divisible(m, n):\n",
        "    return m % n == 0\n",
        "\n",
        "# Test cases for is_divisible\n",
        "print(is_divisible(8, 2))  # True\n",
        "print(is_divisible(11, 3))  # False\n",
        "print(is_divisible(15, 4))  # False\n",
        "print(is_divisible(18,6)) # True"
      ]
    },
    {
      "cell_type": "markdown",
      "source": [
        "Algo used to solve 1.1\n",
        "\n",
        "Input: Two integers, m and n.\n",
        "\n",
        "Output: True if m is divisible by n, False otherwise.\n",
        "\n",
        "Algorithm:\n",
        "\n",
        "Calculate the remainder of the division of m by n using the modulo operator (%).\n",
        "If the remainder is 0, return True. Otherwise, return False.\n"
      ],
      "metadata": {
        "id": "zkHCxa50-YC-"
      }
    },
    {
      "cell_type": "markdown",
      "source": [
        "Answer 1.2"
      ],
      "metadata": {
        "id": "wNMbmsdS_aKz"
      }
    },
    {
      "cell_type": "code",
      "source": [
        "def not_equal(a, b):\n",
        "    return not (a == b)\n",
        "\n",
        "# Test cases for not_equal\n",
        "print(not_equal(3, 3))  # False\n",
        "print(not_equal(5, 3))  # True\n",
        "print(not_equal('hello', 'harsh'))  # True"
      ],
      "metadata": {
        "colab": {
          "base_uri": "https://localhost:8080/"
        },
        "id": "yATVdamq_h_3",
        "outputId": "0999ff30-4aa6-4da3-f46e-9cd837e2078c"
      },
      "execution_count": null,
      "outputs": [
        {
          "output_type": "stream",
          "name": "stdout",
          "text": [
            "False\n",
            "True\n",
            "True\n"
          ]
        }
      ]
    },
    {
      "cell_type": "markdown",
      "source": [
        "Algo used to solve 1.2\n",
        "\n",
        "Input: Two parameters, a and b.\n",
        "Output: True if a is not equal to b, False otherwise.\n",
        "\n",
        "Algorithm:\n",
        "\n",
        "Use the equality operator (==) to check if a is equal to b.\n",
        "Apply the not operator to the result. If a is not equal to b, the result is True; otherwise, it is False.\n"
      ],
      "metadata": {
        "id": "pzudJBFqAHkI"
      }
    },
    {
      "cell_type": "markdown",
      "source": [
        "Answer 1.3"
      ],
      "metadata": {
        "id": "g1aWH9s5AeAr"
      }
    },
    {
      "cell_type": "code",
      "source": [
        "results = [(x, y, z) for x in ['H', 'T'] for y in ['H', 'T'] for z in ['H', 'T']]\n",
        "print(results)"
      ],
      "metadata": {
        "colab": {
          "base_uri": "https://localhost:8080/"
        },
        "id": "s5wBYzRCBP14",
        "outputId": "6aeaa0fd-0bf8-4389-b4d9-050a79389aa0"
      },
      "execution_count": null,
      "outputs": [
        {
          "output_type": "stream",
          "name": "stdout",
          "text": [
            "[('H', 'H', 'H'), ('H', 'H', 'T'), ('H', 'T', 'H'), ('H', 'T', 'T'), ('T', 'H', 'H'), ('T', 'H', 'T'), ('T', 'T', 'H'), ('T', 'T', 'T')]\n"
          ]
        }
      ]
    },
    {
      "cell_type": "markdown",
      "source": [
        "Each coin flip has two possible outcomes: heads (H) or tails (T). For three coin flips, we need to consider all combinations of these outcomes. There are eight possible results."
      ],
      "metadata": {
        "id": "v060WvP2BvZY"
      }
    },
    {
      "cell_type": "code",
      "source": [
        "[x+y for x in [10,20,30] for y in [1,2,3]]"
      ],
      "metadata": {
        "colab": {
          "base_uri": "https://localhost:8080/"
        },
        "id": "NRT5IEROAhkE",
        "outputId": "cf14a70f-a663-4cf7-847b-307fd21d086d"
      },
      "execution_count": null,
      "outputs": [
        {
          "output_type": "execute_result",
          "data": {
            "text/plain": [
              "[11, 12, 13, 21, 22, 23, 31, 32, 33]"
            ]
          },
          "metadata": {},
          "execution_count": 12
        }
      ]
    },
    {
      "cell_type": "markdown",
      "source": [
        "The list of comprehension iterators will add the each element of second list."
      ],
      "metadata": {
        "id": "uQAg2MrTBwWk"
      }
    },
    {
      "cell_type": "code",
      "source": [
        "# For nested loop which will give same result as quation -- [x+y for x in [10,20,30] for y in [1,2,3]]\n",
        "\n",
        "result = []\n",
        "for x in [10, 20, 30]:\n",
        "    for y in [1, 2, 3]:\n",
        "        result.append(x + y)\n",
        "print(result)"
      ],
      "metadata": {
        "colab": {
          "base_uri": "https://localhost:8080/"
        },
        "id": "NK5K3EtdBxyV",
        "outputId": "29a41ccb-9ae2-43d7-afd8-cd0c6d55b6c7"
      },
      "execution_count": null,
      "outputs": [
        {
          "output_type": "stream",
          "name": "stdout",
          "text": [
            "[11, 12, 13, 21, 22, 23, 31, 32, 33]\n"
          ]
        }
      ]
    },
    {
      "cell_type": "markdown",
      "source": [
        "**Answer 1.4**"
      ],
      "metadata": {
        "id": "nKolH8JACwEh"
      }
    },
    {
      "cell_type": "code",
      "source": [
        "def find_digits(s):\n",
        "    # List comprehension that iterates over each character in the string 's'\n",
        "    # Checks if the character is a digit using 'isdigit()' method\n",
        "    # Converts the digit character to an integer using 'int(char)' and adds it to the list\n",
        "    return [int(char) for char in s if char.isdigit()]\n",
        "\n",
        "# Test cases to validate the function\n",
        "print(find_digits(\"Harsh123\"))      # Expected output: [1, 2, 3]\n",
        "print(find_digits(\"CRICKET\"))   # Expected output: []\n",
        "print(find_digits(\"1a2b3c8\"))     # Expected output: [0, 9, 8, 7]"
      ],
      "metadata": {
        "id": "LpKZKvTqLY0w",
        "colab": {
          "base_uri": "https://localhost:8080/"
        },
        "outputId": "dee55e39-d5ca-4d20-c91c-0d5d0c216fb6"
      },
      "execution_count": null,
      "outputs": [
        {
          "output_type": "stream",
          "name": "stdout",
          "text": [
            "[1, 2, 3]\n",
            "[]\n",
            "[1, 2, 3, 8]\n"
          ]
        }
      ]
    },
    {
      "cell_type": "markdown",
      "source": [
        "**Explanation**\n",
        "\n",
        "Function Definition: 'def find_digits(s):'\n",
        "\n",
        "This line defines a feature 'find_digits' that takes a unmarried argument 's', that is anticipated to be a string.\n",
        "\n",
        "List Comprehension: 'return [int(char) for char in s if char.Isdigit()]'\n",
        "\n",
        "Iteration: 'for char in s' iterates over every man or woman inside the string 's'.\n",
        "\n",
        "Condition: 'if char.Isdigit()' tests whether the individual char is a digit.\n",
        "\n",
        "The 'isdigit()' method returns True if the individual is a digit (0-9), in any other case False.\n",
        "\n",
        "Conversion: 'int(char)' converts the person to an integer if it's miles a digit.\n",
        "\n",
        "Resulting List: The list comprehension gathers all of the integers into a listing and returns it.\n",
        "\n",
        "Test Cases:\n",
        "\n",
        "'print(find_digits(\"Harsh123\"))' returns '[1, 2, 3]' because the string consists of the digits 1, 2, and three.\n",
        "\n",
        "'print(find_digits(\"Cricket\"))' returns '[]' due to the fact there are no digits within the string.\n",
        "\n",
        "'print(find_digits(\"1a2b3c8\"))' returns '[1, 2, 3, 8]' because these are the digits present inside the string.\n",
        "\n"
      ],
      "metadata": {
        "id": "zuRaH9PYKOmZ"
      }
    },
    {
      "cell_type": "markdown",
      "source": [
        "**Answer 1.5**"
      ],
      "metadata": {
        "id": "H2HbkmZVLaRh"
      }
    },
    {
      "cell_type": "code",
      "source": [
        "## List Comprehension to find all [x,y] pairs satisfying the equation within the given domain and range\n",
        "\n",
        "xy_pairs = [(x,2*x**2-1) for x in range (-3,4) if 0 <=2*x**2-1<=30]"
      ],
      "metadata": {
        "id": "7OHNpJUtL9hL"
      },
      "execution_count": null,
      "outputs": []
    },
    {
      "cell_type": "markdown",
      "source": [
        "Explanation:\n",
        "•\t`range(-3,‏‏‎ ‎4)`‏‏‎ ‎generates‏‏‎ ‎the‏‏‎ ‎integers‏‏‎ ‎from‏‏‎ ‎−3‏‏‎ ‎to‏‏‎ ‎3‏‏‎ ‎inclusive.\n",
        "•\t`2*x**2‏‏‎ ‎-‏‏‎ ‎1`‏‏‎ ‎computes‏‏‎ ‎the‏‏‎ ‎y‏‏‎ ‎value‏‏‎ ‎for‏‏‎ ‎each‏‏‎ ‎x.\n",
        "•\tThe‏‏‎ ‎`if`‏‏‎ ‎condition‏‏‎ ‎filters‏‏‎ ‎out‏‏‎ ‎any‏‏‎ ‎‏‏‎‎[x,‏‏‎‎y]‏‏‎ ‎pairs‏‏‎ ‎where‏‏‎ ‎y‏‏‎ ‎does‏‏‎ ‎not‏‏‎ ‎lie‏‏‎ ‎within‏‏‎ ‎the‏‏‎ ‎range‏‏‎ ‎‏‏‎‎[0,‏‏‎‎30].\n"
      ],
      "metadata": {
        "id": "Bien6SKsNUR8"
      }
    },
    {
      "cell_type": "markdown",
      "source": [
        "**Answer 1.6**"
      ],
      "metadata": {
        "id": "ig-ZitJQNslG"
      }
    },
    {
      "cell_type": "code",
      "source": [
        "import math\n",
        "def check_collision(ball1, ball2):\n",
        "    # Extract out the coordinates and radii\n",
        "    x1, y1, r1 = ball1\n",
        "    x2, y2, r2 = ball2\n",
        "\n",
        "    # to Calculate the distance between the centers\n",
        "    distance = math.sqrt((x2 - x1)**2 + (y2 - y1)**2)\n",
        "\n",
        "    # Check for the collision condition\n",
        "    if distance <= (r1 + r2):\n",
        "        return True  # The balls are colliding\n",
        "    else:\n",
        "        return False  # The balls are not colliding\n",
        "\n",
        "# Example Test cases\n",
        "ball1 = [0, 0, 1]\n",
        "ball2 = [2, 0, 1]\n",
        "ball3 = [3, 3, 1]\n",
        "ball4 = [1, 1, 3]\n",
        "ball5 = [5, 0, 1]\n",
        "\n",
        "print(check_collision(ball1, ball2))  # will True\n",
        "print(check_collision(ball1, ball3))  # will False\n",
        "print(check_collision(ball4, ball5))  # will True\n"
      ],
      "metadata": {
        "colab": {
          "base_uri": "https://localhost:8080/"
        },
        "id": "Icm5hla-NwoJ",
        "outputId": "97aecacf-0757-4e62-f6fb-5bb70a3145cf"
      },
      "execution_count": null,
      "outputs": [
        {
          "output_type": "stream",
          "name": "stdout",
          "text": [
            "True\n",
            "False\n",
            "False\n"
          ]
        }
      ]
    },
    {
      "cell_type": "markdown",
      "source": [
        "**Answer 1.7**"
      ],
      "metadata": {
        "id": "-nEo2JraNY8K"
      }
    },
    {
      "cell_type": "code",
      "source": [
        "# Letter values as provided\n",
        "LETTER_VALUES = {\n",
        "    'a': 1, 'b': 1, 'c': 5, 'd': 6, 'e': 1, 'f': 4, 'g': 2, 'h': 4, 'i': 1, 'j': 8, 'k': 6,\n",
        "    'l': 1, 'm': 4, 'n': 1, 'o': 1, 'p': 3, 'q': 11, 'r': 1, 's': 1, 't': 1, 'u': 1, 'v': 5,\n",
        "    'w': 4, 'x': 8, 'y': 6, 'z': 10, ' ': 0\n",
        "}\n",
        "\n",
        "def get_word_score(word):\n",
        "    \"\"\"\n",
        "    Returns the score for a word. Assumes the word is a valid word.\n",
        "\n",
        "    The score for a word is the product of two components:\n",
        "        - The first component is the sum of the points for letters in the word.\n",
        "        - The second component is the larger of:\n",
        "            1, or\n",
        "            7*wordlen - 3*(20-wordlen),\n",
        "          where wordlen is the length of the word.\n",
        "\n",
        "    Letters are scored as in LETTER_VALUES.\n",
        "\n",
        "    word: string\n",
        "    returns: int >= 0\n",
        "    \"\"\"\n",
        "    word = word.lower()  # Convert the word to lowercase\n",
        "\n",
        "    # Calculate the sum of points for letters in the word\n",
        "    first_component = sum(LETTER_VALUES[letter] for letter in word)\n",
        "\n",
        "    # Calculate the length of the word\n",
        "    wordlen = len(word)\n",
        "\n",
        "    # Calculate the second component\n",
        "    second_component = max(1, 7 * wordlen - 3 * (20 - wordlen))\n",
        "\n",
        "    # The score for the word is the product of the two components\n",
        "    return first_component * second_component\n",
        "\n",
        "# Test cases\n",
        "print(get_word_score(\"Australia\"))  # Example test case 1\n",
        "print(get_word_score(\"Deakin\"))     # Example test case 2\n",
        "print(get_word_score(\"Harsh\"))   # Example test case 3 (replace with your actual name)"
      ],
      "metadata": {
        "colab": {
          "base_uri": "https://localhost:8080/"
        },
        "id": "9ya3WOEUM62h",
        "outputId": "1a80085e-b30a-4acc-bbaf-dc3c6ac2ae43"
      },
      "execution_count": 35,
      "outputs": [
        {
          "output_type": "stream",
          "name": "stdout",
          "text": [
            "270\n",
            "16\n",
            "11\n"
          ]
        }
      ]
    },
    {
      "cell_type": "markdown",
      "source": [
        "**Answer 1.8**"
      ],
      "metadata": {
        "id": "GGOlyLr1PPS2"
      }
    },
    {
      "cell_type": "code",
      "source": [
        "rows = 5\n",
        "i = 1\n",
        "while i <= rows:\n",
        "    j = i\n",
        "    while j < rows:\n",
        "        # display space\n",
        "        print(' ', end=' ')\n",
        "        j += 1\n",
        "    k = 1\n",
        "    while k <= i:\n",
        "        print('*', end=' ')\n",
        "        k += 1\n",
        "    print()\n",
        "    i += 1\n",
        "\n",
        "i = rows\n",
        "while i >= 1:\n",
        "    j = i\n",
        "    while j <= rows:\n",
        "        print(' ', end=' ')\n",
        "        j += 1\n",
        "    k = 1\n",
        "    while k < i:\n",
        "        print('*', end=' ')\n",
        "        k += 1\n",
        "    print('')\n",
        "    i -= 1"
      ],
      "metadata": {
        "colab": {
          "base_uri": "https://localhost:8080/"
        },
        "id": "qIscw5JeLbou",
        "outputId": "003b1c6d-8305-4c52-901b-4a62c10e718a"
      },
      "execution_count": 32,
      "outputs": [
        {
          "output_type": "stream",
          "name": "stdout",
          "text": [
            "        * \n",
            "      * * \n",
            "    * * * \n",
            "  * * * * \n",
            "* * * * * \n",
            "  * * * * \n",
            "    * * * \n",
            "      * * \n",
            "        * \n",
            "          \n"
          ]
        }
      ]
    },
    {
      "cell_type": "markdown",
      "source": [],
      "metadata": {
        "id": "CxOmfHsJQMcp"
      }
    },
    {
      "cell_type": "markdown",
      "source": [
        "Left Triangle Pascal's Pattern\n",
        "\n",
        "https://pynative.com/print-pattern-python-examples/"
      ],
      "metadata": {
        "id": "YUhWq8iuL3mI"
      }
    },
    {
      "cell_type": "markdown",
      "source": [
        "https://www.chegg.com/homework-help/questions-and-answers/question-17-please-write-solution-python-language-scoring-words-set-score-given-according--q195671237"
      ],
      "metadata": {
        "id": "JLA1j6UzNLvD"
      }
    }
  ]
}