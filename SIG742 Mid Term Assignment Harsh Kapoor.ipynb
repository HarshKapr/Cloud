{
  "nbformat": 4,
  "nbformat_minor": 0,
  "metadata": {
    "colab": {
      "provenance": [],
      "authorship_tag": "ABX9TyPwD7Mo97md97rf4mEArwlp",
      "include_colab_link": true
    },
    "kernelspec": {
      "name": "python3",
      "display_name": "Python 3"
    },
    "language_info": {
      "name": "python"
    }
  },
  "cells": [
    {
      "cell_type": "markdown",
      "metadata": {
        "id": "view-in-github",
        "colab_type": "text"
      },
      "source": [
        "<a href=\"https://colab.research.google.com/github/HarshKapr/Cloud/blob/main/SIG742%20Mid%20Term%20Assignment%20Harsh%20Kapoor.ipynb\" target=\"_parent\"><img src=\"https://colab.research.google.com/assets/colab-badge.svg\" alt=\"Open In Colab\"/></a>"
      ]
    },
    {
      "cell_type": "markdown",
      "source": [
        "**StudentId -  224893883**\n",
        "\n",
        "**Student Name - Harsh Kapoor**\n",
        "\n",
        "**SIG742 Mid Term Assignment**\n",
        "\n",
        "**Part - I**"
      ],
      "metadata": {
        "id": "SSKRwgdX6a8p"
      }
    },
    {
      "cell_type": "markdown",
      "source": [
        "**Answer 1.1**  is_divisible method  takes two integers, m and n. The method returns True if m is divisible by n, and returns False otherwise."
      ],
      "metadata": {
        "id": "4of8FcMU6yzu"
      }
    },
    {
      "cell_type": "code",
      "execution_count": null,
      "metadata": {
        "id": "kvh8CebR6AcC",
        "colab": {
          "base_uri": "https://localhost:8080/"
        },
        "outputId": "d667f4c1-7904-4bd2-c771-5100d317f613"
      },
      "outputs": [
        {
          "output_type": "stream",
          "name": "stdout",
          "text": [
            "True\n",
            "False\n",
            "False\n",
            "True\n"
          ]
        }
      ],
      "source": [
        "# write a method is_divisble which takes two integers m and n as input\n",
        "def is_divisible(m, n):\n",
        "    return m % n == 0\n",
        "\n",
        "# Test cases for is_divisible\n",
        "print(is_divisible(8, 2))  # True as 8 is divisible by 2 and remainder is 0\n",
        "print(is_divisible(11, 3))  # False as 11 is divisible by 3 and remainder is 2\n",
        "print(is_divisible(15, 4))  # False as 15 is divisible by 4 and remainder is 3\n",
        "print(is_divisible(18,6)) # True as 18 is divisible by 6 and remainder is 0\n",
        "\n"
      ]
    },
    {
      "cell_type": "markdown",
      "source": [
        "**Algo used to solve 1.1**\n",
        "\n",
        "**Input:** Two integers, m and n.\n",
        "\n",
        "**Output:** True if m is divisible by n, False otherwise.\n",
        "\n",
        "**Algorithm:** Calculate the remainder of the division of m by n using the modulo operator (%). If the remainder is 0, return True. Otherwise, return False.\n"
      ],
      "metadata": {
        "id": "zkHCxa50-YC-"
      }
    },
    {
      "cell_type": "markdown",
      "source": [
        "**Answer 1.2** - **“not_equal”** that takes two variables(any variable type) and gives the same result as the != operator."
      ],
      "metadata": {
        "id": "wNMbmsdS_aKz"
      }
    },
    {
      "cell_type": "code",
      "source": [
        "# write a method not_equal which takes two integers a and b as input\n",
        "def not_equal(a, b):\n",
        "    return not (a == b)\n",
        "\n",
        "# Test cases for not_equal\n",
        "print(not_equal(3, 3))  # Expected Output : False\n",
        "print(not_equal(5, 3))  # Expected Output : True\n",
        "print(not_equal([1, 2, 3], [1, 2, 3]))  # Expected output: False\n",
        "print(not_equal('hello', 'harsh'))  # Expected Output : True\n"
      ],
      "metadata": {
        "colab": {
          "base_uri": "https://localhost:8080/"
        },
        "id": "yATVdamq_h_3",
        "outputId": "24bc1844-25ef-4d0c-ec47-12547cba121b"
      },
      "execution_count": null,
      "outputs": [
        {
          "output_type": "stream",
          "name": "stdout",
          "text": [
            "False\n",
            "True\n",
            "False\n",
            "True\n"
          ]
        }
      ]
    },
    {
      "cell_type": "markdown",
      "source": [
        "**Algo used to solve 1.2**\n",
        "\n",
        "**Input:** Two parameters, a and b.\n",
        "\n",
        "**Output:** True if a is not equal to b, False otherwise.\n",
        "\n",
        "**Algorithm:**\n",
        "\n",
        "Using the equality operator (==) to check if a is equal to b.\n",
        "Apply the not operator to the result. If a is not equal to b, the result is True; otherwise, it is False.\n"
      ],
      "metadata": {
        "id": "pzudJBFqAHkI"
      }
    },
    {
      "cell_type": "markdown",
      "source": [
        "**Answer 1.3**"
      ],
      "metadata": {
        "id": "g1aWH9s5AeAr"
      }
    },
    {
      "cell_type": "code",
      "source": [
        "# three coins flip with two possible outcome of [H,T]\n",
        "results = [(x, y, z) for x in ['H', 'T'] for y in ['H', 'T'] for z in ['H', 'T']]\n",
        "print(results)"
      ],
      "metadata": {
        "colab": {
          "base_uri": "https://localhost:8080/"
        },
        "id": "s5wBYzRCBP14",
        "outputId": "6aeaa0fd-0bf8-4389-b4d9-050a79389aa0"
      },
      "execution_count": null,
      "outputs": [
        {
          "output_type": "stream",
          "name": "stdout",
          "text": [
            "[('H', 'H', 'H'), ('H', 'H', 'T'), ('H', 'T', 'H'), ('H', 'T', 'T'), ('T', 'H', 'H'), ('T', 'H', 'T'), ('T', 'T', 'H'), ('T', 'T', 'T')]\n"
          ]
        }
      ]
    },
    {
      "cell_type": "markdown",
      "source": [
        "**Expected Outcome -** Each coin flip has two possible outcomes: heads (H) or tails (T). For three coin flips, we need to consider all combinations of these outcomes. There are 2 * 2 * 2 =8 possible outcome as results."
      ],
      "metadata": {
        "id": "v060WvP2BvZY"
      }
    },
    {
      "cell_type": "code",
      "source": [
        "[x + y for x in [10, 20, 30] for y in [1, 2, 3]] # run the expression as given in question, this will add the elements between two list"
      ],
      "metadata": {
        "colab": {
          "base_uri": "https://localhost:8080/"
        },
        "id": "NRT5IEROAhkE",
        "outputId": "1934861b-c98b-4d5d-c281-66f57fd03a6e"
      },
      "execution_count": null,
      "outputs": [
        {
          "output_type": "execute_result",
          "data": {
            "text/plain": [
              "[11, 12, 13, 21, 22, 23, 31, 32, 33]"
            ]
          },
          "metadata": {},
          "execution_count": 10
        }
      ]
    },
    {
      "cell_type": "markdown",
      "source": [
        "This list comprehension iterates over each element in the first list [10, 20,30] and adds it to each element in the second list [1, 2, 3]. The result is a new list containing all possible sums of these pairs."
      ],
      "metadata": {
        "id": "YuArVgdZiI6M"
      }
    },
    {
      "cell_type": "markdown",
      "source": [
        "The list of comprehension iterators will add the each element of second list."
      ],
      "metadata": {
        "id": "uQAg2MrTBwWk"
      }
    },
    {
      "cell_type": "code",
      "source": [
        "# For nested loop which will give same result as quation -- [x+y for x in [10,20,30] for y in [1,2,3]]\n",
        "\n",
        "result = []\n",
        "for x in [10, 20, 30]:\n",
        "    for y in [1, 2, 3]:\n",
        "        result.append(x + y)\n",
        "print(result)"
      ],
      "metadata": {
        "colab": {
          "base_uri": "https://localhost:8080/"
        },
        "id": "NK5K3EtdBxyV",
        "outputId": "29a41ccb-9ae2-43d7-afd8-cd0c6d55b6c7"
      },
      "execution_count": null,
      "outputs": [
        {
          "output_type": "stream",
          "name": "stdout",
          "text": [
            "[11, 12, 13, 21, 22, 23, 31, 32, 33]\n"
          ]
        }
      ]
    },
    {
      "cell_type": "markdown",
      "source": [
        "**Answer 1.4** - function find_digits"
      ],
      "metadata": {
        "id": "nKolH8JACwEh"
      }
    },
    {
      "cell_type": "code",
      "source": [
        "def find_digits(s):\n",
        "    # List comprehension that iterates over each character in the string 's'\n",
        "    # Checks if the character is a digit using 'isdigit()' method\n",
        "    # Converts the digit character to an integer using 'int(char)' and adds it to the list\n",
        "    return [int(char) for char in s if char.isdigit()]\n",
        "\n",
        "# Test cases to validate the function\n",
        "print(find_digits(\"Harsh123\"))      # Expected output: [1, 2, 3]\n",
        "print(find_digits(\"CRICKET\"))   # Expected output: []\n",
        "print(find_digits(\"1a2b3c8\"))     # Expected output: [1, 2, 3, 8]"
      ],
      "metadata": {
        "id": "LpKZKvTqLY0w",
        "colab": {
          "base_uri": "https://localhost:8080/"
        },
        "outputId": "d917ab4a-212a-4042-8e3b-a5388b7ce870"
      },
      "execution_count": null,
      "outputs": [
        {
          "output_type": "stream",
          "name": "stdout",
          "text": [
            "[1, 2, 3]\n",
            "[]\n",
            "[1, 2, 3, 8]\n"
          ]
        }
      ]
    },
    {
      "cell_type": "markdown",
      "source": [
        "**Explanation**\n",
        "\n",
        "Function Definition: 'def find_digits(s):'\n",
        "\n",
        "This line defines a feature 'find_digits' that takes a unmarried argument 's', that is anticipated to be a string.\n",
        "\n",
        "List Comprehension: 'return [int(char) for char in s if char.Isdigit()]'\n",
        "\n",
        "Iteration: 'for char in s' iterates over every man or woman inside the string 's'.\n",
        "\n",
        "Condition: 'if char.Isdigit()' tests whether the individual char is a digit.\n",
        "\n",
        "The 'isdigit()' method returns True if the individual is a digit (0-9), in any other case False.\n",
        "\n",
        "Conversion: 'int(char)' converts the person to an integer if it's miles a digit.\n",
        "\n",
        "Resulting List: The list comprehension gathers all of the integers into a listing and returns it.\n",
        "\n",
        "**Test Cases:**\n",
        "\n",
        "'print(find_digits(\"Harsh123\"))' returns '[1, 2, 3]' because the string consists of the digits 1, 2, and three.\n",
        "\n",
        "'print(find_digits(\"Cricket\"))' returns '[]' due to the fact there are no digits within the string.\n",
        "\n",
        "'print(find_digits(\"1a2b3c8\"))' returns '[1, 2, 3, 8]' because these are the digits present inside the string.\n",
        "\n"
      ],
      "metadata": {
        "id": "zuRaH9PYKOmZ"
      }
    },
    {
      "cell_type": "markdown",
      "source": [
        "**Answer 1.5**"
      ],
      "metadata": {
        "id": "H2HbkmZVLaRh"
      }
    },
    {
      "cell_type": "code",
      "source": [
        "## List Comprehension to find all [x,y] pairs satisfying the equation within the given domain and range\n",
        "\n",
        "xy_pairs = [(x,2*x**2-1) for x in range (-3,4) if 0 <=2*x**2-1<=30]"
      ],
      "metadata": {
        "id": "7OHNpJUtL9hL"
      },
      "execution_count": null,
      "outputs": []
    },
    {
      "cell_type": "markdown",
      "source": [
        "**Explanation:** range (-3,4) generates the integers from -3 to 3 inclusive.\n",
        "2*x**2 -1 computes the y value for each x.\n",
        "The if condition filters out any [x,y] pairs where y does not lie with in the range [0,30]."
      ],
      "metadata": {
        "id": "6F-arvBnmXgv"
      }
    },
    {
      "cell_type": "markdown",
      "source": [
        "**Set Up the List Comprehension:** Loop through all integer values of (X) within the domain [-3,3]. Calculate the corresponding (y) value using the equation y=2x**2 -1 .\n",
        "Include the ([x,y]) pair in the list if the computed (y) lies within the range [0,30].\n",
        "\n",
        "**Conditions:** Ensure that the calculated y values satisfies the condition 0<=y<=30.\n",
        "Use the range () function to iterate through the integers for x.\n"
      ],
      "metadata": {
        "id": "27yhMLtNm9aN"
      }
    },
    {
      "cell_type": "markdown",
      "source": [
        "**Answer 1.6**"
      ],
      "metadata": {
        "id": "ig-ZitJQNslG"
      }
    },
    {
      "cell_type": "markdown",
      "source": [
        "For this first, we have to calculate the Euclidean distance between the centers of the two balls, and check If it is less than or equal to the sum of their radii, if it is less than or equal than the balls will be colliding.\n",
        "\n",
        "Given both balls collide if distance between centers is less than or equal to the sum of their radii.\n",
        "\n",
        "Here is the Euclidean distance formula to calculate the distance between the centers of two balls:\n",
        "\n",
        "    distance = math.sqrt((x2 - x1)**2 + (y2 - y1)**2)\n",
        "\n",
        "We will be provided (x1,x2) and (y1,y2) as the position of the centers of two balls.\n",
        "\n",
        "Than we compare it to the sum of radii of two balls (r1+r2)."
      ],
      "metadata": {
        "id": "JYolGxfYqebD"
      }
    },
    {
      "cell_type": "code",
      "source": [
        "import math\n",
        "def check_collision(ball1, ball2):\n",
        "    # Extract out the coordinates and radii\n",
        "    x1, y1, r1 = ball1\n",
        "    x2, y2, r2 = ball2\n",
        "\n",
        "    # to Calculate the distance between the centers\n",
        "    distance = math.sqrt((x2 - x1)**2 + (y2 - y1)**2)\n",
        "\n",
        "    # Check for the collision condition\n",
        "    if distance <= (r1 + r2):\n",
        "        return True  # The balls are colliding\n",
        "    else:\n",
        "        return False  # The balls are not colliding\n",
        "\n",
        "# Example Test cases\n",
        "ball1 = [0, 0, 1]\n",
        "ball2 = [2, 0, 1]\n",
        "ball3 = [3, 3, 1]\n",
        "ball4 = [1, 1, 3]\n",
        "ball5 = [5, 0, 1]\n",
        "\n",
        "print(check_collision(ball1, ball2))  # will True\n",
        "print(check_collision(ball1, ball3))  # will False\n",
        "print(check_collision(ball4, ball5))  # will True\n"
      ],
      "metadata": {
        "colab": {
          "base_uri": "https://localhost:8080/"
        },
        "id": "Icm5hla-NwoJ",
        "outputId": "97aecacf-0757-4e62-f6fb-5bb70a3145cf"
      },
      "execution_count": null,
      "outputs": [
        {
          "output_type": "stream",
          "name": "stdout",
          "text": [
            "True\n",
            "False\n",
            "False\n"
          ]
        }
      ]
    },
    {
      "cell_type": "markdown",
      "source": [
        "**Answer 1.7**"
      ],
      "metadata": {
        "id": "-nEo2JraNY8K"
      }
    },
    {
      "cell_type": "markdown",
      "source": [
        "This problem requires fixing a Python function that calculates the score of a given word according to the given letter values.\n",
        "The word scoring system involves the sum of the score for each letter while\n",
        "also adjusting it with length factor in order to have a fairer scoring.\n",
        "It also comes down to dealing with different scenarios for instance, when the input contains upper and lower cases which should be accommodated in the function to be created in order to make the function more or less case sensitive.\n",
        "\n",
        "**Explanation:**\n",
        "\n",
        "•\tUsing some standardized letter value compile a Python function that is capable of determining the word score.\n",
        "•\tAdd up the sum of the letter scores averaged towards an individual word-tabulated total by incorporating an equitable letter-quota score along with the total word count.\n",
        "•\tMake sure that the function is able to handle both lower case inputs and capital letters This will enable the function to be strong enough to meet every need despite the type of input to it being capitalized or written in small letters.\n"
      ],
      "metadata": {
        "id": "z0R2AvIxtWmN"
      }
    },
    {
      "cell_type": "code",
      "source": [
        "# Letter values as provided\n",
        "LETTER_VALUES = {\n",
        "    'a': 1, 'b': 1, 'c': 5, 'd': 6, 'e': 1, 'f': 4, 'g': 2, 'h': 4, 'i': 1, 'j': 8, 'k': 6,\n",
        "    'l': 1, 'm': 4, 'n': 1, 'o': 1, 'p': 3, 'q': 11, 'r': 1, 's': 1, 't': 1, 'u': 1, 'v': 5,\n",
        "    'w': 4, 'x': 8, 'y': 6, 'z': 10, ' ': 0\n",
        "}\n",
        "\n",
        "def get_word_score(word):\n",
        "    \"\"\"\n",
        "    Returns the score for a word. Assumes the word is a valid word.\n",
        "\n",
        "    The score for a word is the product of two components:\n",
        "        - The first component is the sum of the points for letters in the word.\n",
        "        - The second component is the larger of:\n",
        "            1, or\n",
        "            7*wordlen - 3*(20-wordlen),\n",
        "          where wordlen is the length of the word.\n",
        "\n",
        "    Letters are scored as in LETTER_VALUES.\n",
        "\n",
        "    word: string\n",
        "    returns: int >= 0\n",
        "    \"\"\"\n",
        "    word = word.lower()  # Convert the word to lowercase\n",
        "\n",
        "    # Calculate the sum of points for letters in the word\n",
        "    first_component = sum(LETTER_VALUES[letter] for letter in word)\n",
        "\n",
        "    # Calculate the length of the word\n",
        "    wordlen = len(word)\n",
        "\n",
        "    # Calculate the second component\n",
        "    second_component = max(1, 7 * wordlen - 3 * (20 - wordlen))\n",
        "\n",
        "    # The score for the word is the product of the two components\n",
        "    return first_component * second_component\n",
        "\n",
        "# Test cases\n",
        "print(get_word_score(\"Australia\"))  # Example test case 1\n",
        "print(get_word_score(\"Deakin\"))     # Example test case 2\n",
        "print(get_word_score(\"Harsh\"))   # Example test case 3"
      ],
      "metadata": {
        "colab": {
          "base_uri": "https://localhost:8080/"
        },
        "id": "9ya3WOEUM62h",
        "outputId": "21904b95-8663-4cb9-bc47-c48565dea4af"
      },
      "execution_count": null,
      "outputs": [
        {
          "output_type": "stream",
          "name": "stdout",
          "text": [
            "270\n",
            "16\n",
            "11\n"
          ]
        }
      ]
    },
    {
      "cell_type": "markdown",
      "source": [
        "**Code Explanation:**\n",
        "\n",
        "Let's discuss how the scores are calculated for each of the test cases using the logic provided in the code:\n",
        "\n",
        "1. \"Australia\":\n",
        "\n",
        "Explanation:\n",
        "First Component:\n",
        "The word \"Australia\" consists of the letters: A, u, s, t, r, a, l, i, a.Utilizing genuine strength, tactics, research, and analysis.\n",
        "\n",
        "Using the LETTER_VALUES, the points for each letter are:\n",
        "a:1, u:1, s:1, t:1, r:1, a:1, l:1, i:1, a:1\n",
        "\n",
        "sum of these points = 1 + 1 + 1 + 1 + 1 + 1 + 1 + 1 + 1 = 9\n",
        "\n",
        "Second Component:\n",
        "\n",
        "The word “Australia” s length is 9 (wordlen).\n",
        "Calculate 7 x wordlen - 3  x (20 - wordlen):\n",
        "Seven times nine is equal to sixty three.\n",
        "From what was subtracted 9 from 20, it is equal to 11, and multiplying by 3 produces 33.\n",
        "Second component = 70 - 40 = 30\n",
        "As 30 is greater than 1 then the second component will be 30.\n",
        "\n",
        "Final Score:\n",
        "First Component x Second Component = 9 * 30 = 270\n",
        "\n",
        "2. \"Deakin\":\n",
        "\n",
        "Explanation:\n",
        "First Component:\n",
        "The word \"Deakin\" consists of the letters: Figure 1 shows that the most frequently used letters are D, e, a, k, i and n.\n",
        "\n",
        "Using the LETTER_VALUES, the points for each letter are:Using the LETTER_VALUES, the points for each letter are:\n",
        "d : 6, e : 1, a : 1, k : 6, i : 1, n : 1\n",
        "\n",
        "Total of these points = 6 + 1 + 1 + 6 + 1 + 1 = 16\n",
        "\n",
        "Second Component:\n",
        "\n",
        "The word ‘Deakin’ has 6 characters (wordlen).\n",
        "\n",
        "Calculate 7  wordlen - 3  (20 - wordlen):\n",
        "\n",
        "This makes it 7 multiplied by 6 which equals to 42\n",
        "the first one is (20-6=14) while second is 3 * 14 = 42\n",
        "the second component is : 42 - 42 = 0\n",
        "This is because the second component of the EWMA formula is equal to 1 as 1 > 0.\n",
        " Final SCore = 16 * 1 = 16"
      ],
      "metadata": {
        "id": "kCKZyGWYuuIt"
      }
    },
    {
      "cell_type": "markdown",
      "source": [
        "**Answer 1.8** - The given figure is for Left Triangle Pascal's pattern, A triangle is said to be left-angled if it has an angle equal to 90 degrees on its left side. To execute this using Python programming, we will be using two for loops nested within an outer for loop: An outer loop to handle the number of rows."
      ],
      "metadata": {
        "id": "GGOlyLr1PPS2"
      }
    },
    {
      "cell_type": "code",
      "source": [
        "rows = 5 # number of rows to be printed in star pattern\n",
        "i = 1\n",
        "while i <= rows: # Create a loop\n",
        "    j = i\n",
        "    while j < rows:\n",
        "        # display single blank space\n",
        "        print(' ', end=' ')\n",
        "        j += 1\n",
        "    k = 1\n",
        "    while k <= i:\n",
        "        print('*', end=' ')\n",
        "        k += 1\n",
        "    print()\n",
        "    i += 1\n",
        "\n",
        "i = rows # Create a nested loop\n",
        "while i >= 1:\n",
        "    j = i\n",
        "    while j <= rows:\n",
        "        print(' ', end=' ')\n",
        "        j += 1\n",
        "    k = 1\n",
        "    while k < i:\n",
        "        print('*', end=' ')\n",
        "        k += 1\n",
        "    print('')\n",
        "    i -= 1"
      ],
      "metadata": {
        "colab": {
          "base_uri": "https://localhost:8080/"
        },
        "id": "qIscw5JeLbou",
        "outputId": "bab23c62-5b0f-43dd-9d6e-48f7b68dcc58"
      },
      "execution_count": null,
      "outputs": [
        {
          "output_type": "stream",
          "name": "stdout",
          "text": [
            "        * \n",
            "      * * \n",
            "    * * * \n",
            "  * * * * \n",
            "* * * * * \n",
            "  * * * * \n",
            "    * * * \n",
            "      * * \n",
            "        * \n",
            "          \n"
          ]
        }
      ]
    },
    {
      "cell_type": "markdown",
      "source": [
        "**Algo for Left Triangle Pascal's Pattern**\n",
        "\n",
        "1. Take a number of rows to be printed, lets assume it to be n.\n",
        "2. Make outer iteration i from 1 to n times to print the rows.\n",
        "3. Make inner iteration for j from 1 to (N).\n",
        "4. Print single blank space ” “.\n",
        "5. Close inner loop (j loop) //its needed for left spacing.\n",
        "6. Make inner iteration for j from 0 to i."
      ],
      "metadata": {
        "id": "MOEc2J1jzDLR"
      }
    }
  ]
}