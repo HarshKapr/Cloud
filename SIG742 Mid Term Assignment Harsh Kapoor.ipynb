{
  "nbformat": 4,
  "nbformat_minor": 0,
  "metadata": {
    "colab": {
      "provenance": [],
      "authorship_tag": "ABX9TyPS93y43nCqZpIxnFVR6dGf",
      "include_colab_link": true
    },
    "kernelspec": {
      "name": "python3",
      "display_name": "Python 3"
    },
    "language_info": {
      "name": "python"
    }
  },
  "cells": [
    {
      "cell_type": "markdown",
      "metadata": {
        "id": "view-in-github",
        "colab_type": "text"
      },
      "source": [
        "<a href=\"https://colab.research.google.com/github/HarshKapr/Cloud/blob/main/SIG742%20Mid%20Term%20Assignment%20Harsh%20Kapoor.ipynb\" target=\"_parent\"><img src=\"https://colab.research.google.com/assets/colab-badge.svg\" alt=\"Open In Colab\"/></a>"
      ]
    },
    {
      "cell_type": "markdown",
      "source": [
        "StudentId -  224893883\n",
        "\n",
        "Student Name - Harsh Kapoor\n",
        "\n",
        "Part - I"
      ],
      "metadata": {
        "id": "SSKRwgdX6a8p"
      }
    },
    {
      "cell_type": "markdown",
      "source": [
        "Answer 1.1"
      ],
      "metadata": {
        "id": "4of8FcMU6yzu"
      }
    },
    {
      "cell_type": "code",
      "execution_count": 8,
      "metadata": {
        "id": "kvh8CebR6AcC",
        "outputId": "b730971b-c15b-4eac-82dd-816084e92fdf",
        "colab": {
          "base_uri": "https://localhost:8080/"
        }
      },
      "outputs": [
        {
          "output_type": "stream",
          "name": "stdout",
          "text": [
            "True\n",
            "False\n",
            "False\n",
            "True\n"
          ]
        }
      ],
      "source": [
        "# 1. is_divisible\n",
        "def is_divisible(m, n):\n",
        "    return m % n == 0\n",
        "\n",
        "# Test cases for is_divisible\n",
        "print(is_divisible(8, 2))  # True\n",
        "print(is_divisible(11, 3))  # False\n",
        "print(is_divisible(15, 4))  # False\n",
        "print(is_divisible(18,6)) # True"
      ]
    },
    {
      "cell_type": "markdown",
      "source": [
        "Algo used to solve 1.1\n",
        "\n",
        "Input: Two integers, m and n.\n",
        "\n",
        "Output: True if m is divisible by n, False otherwise.\n",
        "\n",
        "Algorithm:\n",
        "\n",
        "Calculate the remainder of the division of m by n using the modulo operator (%).\n",
        "If the remainder is 0, return True. Otherwise, return False.\n"
      ],
      "metadata": {
        "id": "zkHCxa50-YC-"
      }
    }
  ]
}