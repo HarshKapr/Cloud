{
  "nbformat": 4,
  "nbformat_minor": 0,
  "metadata": {
    "colab": {
      "provenance": [],
      "authorship_tag": "ABX9TyMeTHwcM5oO08Elu8z63Tfu",
      "include_colab_link": true
    },
    "kernelspec": {
      "name": "python3",
      "display_name": "Python 3"
    },
    "language_info": {
      "name": "python"
    }
  },
  "cells": [
    {
      "cell_type": "markdown",
      "metadata": {
        "id": "view-in-github",
        "colab_type": "text"
      },
      "source": [
        "<a href=\"https://colab.research.google.com/github/HarshKapr/Cloud/blob/main/SIG742%20Mid%20Term%20Assignment%20Harsh%20Kapoor.ipynb\" target=\"_parent\"><img src=\"https://colab.research.google.com/assets/colab-badge.svg\" alt=\"Open In Colab\"/></a>"
      ]
    },
    {
      "cell_type": "markdown",
      "source": [
        "StudentId -  224893883\n",
        "\n",
        "Student Name - Harsh Kapoor\n",
        "\n",
        "SIG742 Mid Term Assignment\n",
        "\n",
        "Part - I"
      ],
      "metadata": {
        "id": "SSKRwgdX6a8p"
      }
    },
    {
      "cell_type": "markdown",
      "source": [
        "Answer 1.1"
      ],
      "metadata": {
        "id": "4of8FcMU6yzu"
      }
    },
    {
      "cell_type": "code",
      "execution_count": 8,
      "metadata": {
        "id": "kvh8CebR6AcC",
        "colab": {
          "base_uri": "https://localhost:8080/"
        },
        "outputId": "b730971b-c15b-4eac-82dd-816084e92fdf"
      },
      "outputs": [
        {
          "output_type": "stream",
          "name": "stdout",
          "text": [
            "True\n",
            "False\n",
            "False\n",
            "True\n"
          ]
        }
      ],
      "source": [
        "def is_divisible(m, n):\n",
        "    return m % n == 0\n",
        "\n",
        "# Test cases for is_divisible\n",
        "print(is_divisible(8, 2))  # True\n",
        "print(is_divisible(11, 3))  # False\n",
        "print(is_divisible(15, 4))  # False\n",
        "print(is_divisible(18,6)) # True"
      ]
    },
    {
      "cell_type": "markdown",
      "source": [
        "Algo used to solve 1.1\n",
        "\n",
        "Input: Two integers, m and n.\n",
        "\n",
        "Output: True if m is divisible by n, False otherwise.\n",
        "\n",
        "Algorithm:\n",
        "\n",
        "Calculate the remainder of the division of m by n using the modulo operator (%).\n",
        "If the remainder is 0, return True. Otherwise, return False.\n"
      ],
      "metadata": {
        "id": "zkHCxa50-YC-"
      }
    },
    {
      "cell_type": "markdown",
      "source": [
        "Answer 1.2"
      ],
      "metadata": {
        "id": "wNMbmsdS_aKz"
      }
    },
    {
      "cell_type": "code",
      "source": [
        "def not_equal(a, b):\n",
        "    return not (a == b)\n",
        "\n",
        "# Test cases for not_equal\n",
        "print(not_equal(3, 3))  # False\n",
        "print(not_equal(5, 3))  # True\n",
        "print(not_equal('hello', 'harsh'))  # True"
      ],
      "metadata": {
        "colab": {
          "base_uri": "https://localhost:8080/"
        },
        "id": "yATVdamq_h_3",
        "outputId": "0999ff30-4aa6-4da3-f46e-9cd837e2078c"
      },
      "execution_count": 10,
      "outputs": [
        {
          "output_type": "stream",
          "name": "stdout",
          "text": [
            "False\n",
            "True\n",
            "True\n"
          ]
        }
      ]
    },
    {
      "cell_type": "markdown",
      "source": [
        "Algo used to solve 1.2\n",
        "\n",
        "Input: Two parameters, a and b.\n",
        "Output: True if a is not equal to b, False otherwise.\n",
        "\n",
        "Algorithm:\n",
        "\n",
        "Use the equality operator (==) to check if a is equal to b.\n",
        "Apply the not operator to the result. If a is not equal to b, the result is True; otherwise, it is False.\n"
      ],
      "metadata": {
        "id": "pzudJBFqAHkI"
      }
    },
    {
      "cell_type": "markdown",
      "source": [
        "Answer 1.3"
      ],
      "metadata": {
        "id": "g1aWH9s5AeAr"
      }
    },
    {
      "cell_type": "code",
      "source": [
        "results = [(x, y, z) for x in ['H', 'T'] for y in ['H', 'T'] for z in ['H', 'T']]\n",
        "print(results)"
      ],
      "metadata": {
        "colab": {
          "base_uri": "https://localhost:8080/"
        },
        "id": "s5wBYzRCBP14",
        "outputId": "6aeaa0fd-0bf8-4389-b4d9-050a79389aa0"
      },
      "execution_count": 13,
      "outputs": [
        {
          "output_type": "stream",
          "name": "stdout",
          "text": [
            "[('H', 'H', 'H'), ('H', 'H', 'T'), ('H', 'T', 'H'), ('H', 'T', 'T'), ('T', 'H', 'H'), ('T', 'H', 'T'), ('T', 'T', 'H'), ('T', 'T', 'T')]\n"
          ]
        }
      ]
    },
    {
      "cell_type": "markdown",
      "source": [
        "Each coin flip has two possible outcomes: heads (H) or tails (T). For three coin flips, we need to consider all combinations of these outcomes. There are eight possible results."
      ],
      "metadata": {
        "id": "v060WvP2BvZY"
      }
    },
    {
      "cell_type": "code",
      "source": [
        "[x+y for x in [10,20,30] for y in [1,2,3]]"
      ],
      "metadata": {
        "colab": {
          "base_uri": "https://localhost:8080/"
        },
        "id": "NRT5IEROAhkE",
        "outputId": "cf14a70f-a663-4cf7-847b-307fd21d086d"
      },
      "execution_count": 12,
      "outputs": [
        {
          "output_type": "execute_result",
          "data": {
            "text/plain": [
              "[11, 12, 13, 21, 22, 23, 31, 32, 33]"
            ]
          },
          "metadata": {},
          "execution_count": 12
        }
      ]
    },
    {
      "cell_type": "markdown",
      "source": [
        "The list of comprehension iterators will add the each element of second list."
      ],
      "metadata": {
        "id": "uQAg2MrTBwWk"
      }
    },
    {
      "cell_type": "code",
      "source": [
        "# For nested loop which will give same result as quation -- [x+y for x in [10,20,30] for y in [1,2,3]]\n",
        "\n",
        "result = []\n",
        "for x in [10, 20, 30]:\n",
        "    for y in [1, 2, 3]:\n",
        "        result.append(x + y)\n",
        "print(result)"
      ],
      "metadata": {
        "colab": {
          "base_uri": "https://localhost:8080/"
        },
        "id": "NK5K3EtdBxyV",
        "outputId": "29a41ccb-9ae2-43d7-afd8-cd0c6d55b6c7"
      },
      "execution_count": 15,
      "outputs": [
        {
          "output_type": "stream",
          "name": "stdout",
          "text": [
            "[11, 12, 13, 21, 22, 23, 31, 32, 33]\n"
          ]
        }
      ]
    },
    {
      "cell_type": "markdown",
      "source": [
        "Answer 1.4"
      ],
      "metadata": {
        "id": "nKolH8JACwEh"
      }
    },
    {
      "cell_type": "code",
      "source": [],
      "metadata": {
        "id": "LpKZKvTqLY0w"
      },
      "execution_count": null,
      "outputs": []
    },
    {
      "cell_type": "markdown",
      "source": [
        "Answer 1.5"
      ],
      "metadata": {
        "id": "H2HbkmZVLaRh"
      }
    },
    {
      "cell_type": "code",
      "source": [
        "# list comprehension for [x,y] pairs\n",
        "# range(a,b) means a to b-1\n",
        "# so, take (a,b+1) to get [a,b]\n",
        "pairs = [(x, y) for x in range(-3, 4) for y in range(31) if y ==  (2(x * x) - 1)]\n",
        "print('The Pairs are: ',pairs)\n"
      ],
      "metadata": {
        "colab": {
          "base_uri": "https://localhost:8080/",
          "height": 382
        },
        "id": "FuTkx2ykCvPR",
        "outputId": "ee31b242-9be3-46b9-9314-ee7b8998a3f2"
      },
      "execution_count": 23,
      "outputs": [
        {
          "output_type": "stream",
          "name": "stderr",
          "text": [
            "<>:4: SyntaxWarning: 'int' object is not callable; perhaps you missed a comma?\n",
            "<>:4: SyntaxWarning: 'int' object is not callable; perhaps you missed a comma?\n",
            "<ipython-input-23-4fc1b598052b>:4: SyntaxWarning: 'int' object is not callable; perhaps you missed a comma?\n",
            "  pairs = [(x, y) for x in range(-3, 4) for y in range(31) if y ==  (2(x * x) - 1)]\n"
          ]
        },
        {
          "output_type": "error",
          "ename": "TypeError",
          "evalue": "'int' object is not callable",
          "traceback": [
            "\u001b[0;31m---------------------------------------------------------------------------\u001b[0m",
            "\u001b[0;31mTypeError\u001b[0m                                 Traceback (most recent call last)",
            "\u001b[0;32m<ipython-input-23-4fc1b598052b>\u001b[0m in \u001b[0;36m<cell line: 4>\u001b[0;34m()\u001b[0m\n\u001b[1;32m      2\u001b[0m \u001b[0;31m# range(a,b) means a to b-1\u001b[0m\u001b[0;34m\u001b[0m\u001b[0;34m\u001b[0m\u001b[0m\n\u001b[1;32m      3\u001b[0m \u001b[0;31m# so, take (a,b+1) to get [a,b]\u001b[0m\u001b[0;34m\u001b[0m\u001b[0;34m\u001b[0m\u001b[0m\n\u001b[0;32m----> 4\u001b[0;31m \u001b[0mpairs\u001b[0m \u001b[0;34m=\u001b[0m \u001b[0;34m[\u001b[0m\u001b[0;34m(\u001b[0m\u001b[0mx\u001b[0m\u001b[0;34m,\u001b[0m \u001b[0my\u001b[0m\u001b[0;34m)\u001b[0m \u001b[0;32mfor\u001b[0m \u001b[0mx\u001b[0m \u001b[0;32min\u001b[0m \u001b[0mrange\u001b[0m\u001b[0;34m(\u001b[0m\u001b[0;34m-\u001b[0m\u001b[0;36m3\u001b[0m\u001b[0;34m,\u001b[0m \u001b[0;36m4\u001b[0m\u001b[0;34m)\u001b[0m \u001b[0;32mfor\u001b[0m \u001b[0my\u001b[0m \u001b[0;32min\u001b[0m \u001b[0mrange\u001b[0m\u001b[0;34m(\u001b[0m\u001b[0;36m31\u001b[0m\u001b[0;34m)\u001b[0m \u001b[0;32mif\u001b[0m \u001b[0my\u001b[0m \u001b[0;34m==\u001b[0m  \u001b[0;34m(\u001b[0m\u001b[0;36m2\u001b[0m\u001b[0;34m(\u001b[0m\u001b[0mx\u001b[0m \u001b[0;34m*\u001b[0m \u001b[0mx\u001b[0m\u001b[0;34m)\u001b[0m \u001b[0;34m-\u001b[0m \u001b[0;36m1\u001b[0m\u001b[0;34m)\u001b[0m\u001b[0;34m]\u001b[0m\u001b[0;34m\u001b[0m\u001b[0;34m\u001b[0m\u001b[0m\n\u001b[0m\u001b[1;32m      5\u001b[0m \u001b[0mprint\u001b[0m\u001b[0;34m(\u001b[0m\u001b[0;34m'The Pairs are: '\u001b[0m\u001b[0;34m,\u001b[0m\u001b[0mpairs\u001b[0m\u001b[0;34m)\u001b[0m\u001b[0;34m\u001b[0m\u001b[0;34m\u001b[0m\u001b[0m\n",
            "\u001b[0;32m<ipython-input-23-4fc1b598052b>\u001b[0m in \u001b[0;36m<listcomp>\u001b[0;34m(.0)\u001b[0m\n\u001b[1;32m      2\u001b[0m \u001b[0;31m# range(a,b) means a to b-1\u001b[0m\u001b[0;34m\u001b[0m\u001b[0;34m\u001b[0m\u001b[0m\n\u001b[1;32m      3\u001b[0m \u001b[0;31m# so, take (a,b+1) to get [a,b]\u001b[0m\u001b[0;34m\u001b[0m\u001b[0;34m\u001b[0m\u001b[0m\n\u001b[0;32m----> 4\u001b[0;31m \u001b[0mpairs\u001b[0m \u001b[0;34m=\u001b[0m \u001b[0;34m[\u001b[0m\u001b[0;34m(\u001b[0m\u001b[0mx\u001b[0m\u001b[0;34m,\u001b[0m \u001b[0my\u001b[0m\u001b[0;34m)\u001b[0m \u001b[0;32mfor\u001b[0m \u001b[0mx\u001b[0m \u001b[0;32min\u001b[0m \u001b[0mrange\u001b[0m\u001b[0;34m(\u001b[0m\u001b[0;34m-\u001b[0m\u001b[0;36m3\u001b[0m\u001b[0;34m,\u001b[0m \u001b[0;36m4\u001b[0m\u001b[0;34m)\u001b[0m \u001b[0;32mfor\u001b[0m \u001b[0my\u001b[0m \u001b[0;32min\u001b[0m \u001b[0mrange\u001b[0m\u001b[0;34m(\u001b[0m\u001b[0;36m31\u001b[0m\u001b[0;34m)\u001b[0m \u001b[0;32mif\u001b[0m \u001b[0my\u001b[0m \u001b[0;34m==\u001b[0m  \u001b[0;34m(\u001b[0m\u001b[0;36m2\u001b[0m\u001b[0;34m(\u001b[0m\u001b[0mx\u001b[0m \u001b[0;34m*\u001b[0m \u001b[0mx\u001b[0m\u001b[0;34m)\u001b[0m \u001b[0;34m-\u001b[0m \u001b[0;36m1\u001b[0m\u001b[0;34m)\u001b[0m\u001b[0;34m]\u001b[0m\u001b[0;34m\u001b[0m\u001b[0;34m\u001b[0m\u001b[0m\n\u001b[0m\u001b[1;32m      5\u001b[0m \u001b[0mprint\u001b[0m\u001b[0;34m(\u001b[0m\u001b[0;34m'The Pairs are: '\u001b[0m\u001b[0;34m,\u001b[0m\u001b[0mpairs\u001b[0m\u001b[0;34m)\u001b[0m\u001b[0;34m\u001b[0m\u001b[0;34m\u001b[0m\u001b[0m\n",
            "\u001b[0;31mTypeError\u001b[0m: 'int' object is not callable"
          ]
        }
      ]
    }
  ]
}